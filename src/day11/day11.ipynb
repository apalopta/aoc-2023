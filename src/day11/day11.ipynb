{
 "cells": [
  {
   "cell_type": "code",
   "execution_count": 307,
   "outputs": [],
   "source": [
    "fun List<String>.display() {\n",
    "    println(\"    =\".padEnd(this[0].length + 4, '='))\n",
    "    for (i in indices) {\n",
    "        println(\"$i\".padEnd(4) + this[i])\n",
    "    }\n",
    "    println(\"    =\".padEnd(this[0].length + 4, '='))\n",
    "}"
   ],
   "metadata": {
    "collapsed": false,
    "ExecuteTime": {
     "end_time": "2023-12-11T18:30:03.440583200Z",
     "start_time": "2023-12-11T18:30:02.998403200Z"
    }
   }
  },
  {
   "cell_type": "code",
   "execution_count": 308,
   "outputs": [
    {
     "data": {
      "text/plain": "[3, 7]"
     },
     "execution_count": 308,
     "metadata": {},
     "output_type": "execute_result"
    }
   ],
   "source": [
    "import java.io.File\n",
    "\n",
    "val input = File(\"./src/day11/test-1.txt\").readLines()\n",
    "val emptyLineIndices = input.mapIndexed { i, line -> if (line.none { it == '#' }) i else 0}.filter { it != 0 }\n",
    "emptyLineIndices"
   ],
   "metadata": {
    "collapsed": false,
    "ExecuteTime": {
     "end_time": "2023-12-11T18:30:03.850990400Z",
     "start_time": "2023-12-11T18:30:03.415739100Z"
    }
   }
  },
  {
   "cell_type": "code",
   "execution_count": 309,
   "outputs": [
    {
     "data": {
      "text/plain": "[2, 5, 8]"
     },
     "execution_count": 309,
     "metadata": {},
     "output_type": "execute_result"
    }
   ],
   "source": [
    "val emptyColumns = mutableListOf<Int>()\n",
    "for (i in input[0].indices) {\n",
    "    if (input.map { it[i] }.none { it == '#' })\n",
    "        emptyColumns.add(i)\n",
    "}\n",
    "emptyColumns"
   ],
   "metadata": {
    "collapsed": false,
    "ExecuteTime": {
     "end_time": "2023-12-11T18:30:04.570629400Z",
     "start_time": "2023-12-11T18:30:03.839991400Z"
    }
   }
  },
  {
   "cell_type": "code",
   "execution_count": 310,
   "outputs": [],
   "source": [
    "val replacedLines = input.toMutableList()\n",
    "for (i in emptyLineIndices.reversed()) repeat(1) { replacedLines.add(i, \".\".padEnd(input[0].length, '.')) }\n",
    "//replacedLines.display()\n",
    "\n",
    "val expanded = replacedLines.map { line ->\n",
    "    var newLine = line.toMutableList()\n",
    "    for (i in emptyColumns.reversed())\n",
    "        repeat(1) { newLine.add(i, '.') }\n",
    "    newLine.joinToString(\"\")\n",
    "}\n",
    "//expanded.display()"
   ],
   "metadata": {
    "collapsed": false,
    "ExecuteTime": {
     "end_time": "2023-12-11T18:30:05.225905Z",
     "start_time": "2023-12-11T18:30:04.555630Z"
    }
   }
  },
  {
   "cell_type": "markdown",
   "source": [],
   "metadata": {
    "collapsed": false
   }
  },
  {
   "cell_type": "code",
   "execution_count": 311,
   "outputs": [],
   "source": [
    "data class Pos (val i: Long, val j: Long) {\n",
    "    fun distance(other: Pos) : Long {\n",
    "        val dy = abs(other.i - i)\n",
    "        val dx = abs(other.j - j)\n",
    "        return if (j == other.j && i != other.i) {\n",
    "            dy\n",
    "        } else if (i == other.i && j != other.j) {\n",
    "            dx\n",
    "        } else {\n",
    "            dx + dy\n",
    "        }\n",
    "    }\n",
    "//    fun distance(other: Pos) = (abs(other.i - i ) - 1) * 2\n",
    "}\n",
    "data class Galaxy(val id: Long, val pos: Pos) {\n",
    "    fun distance(other: Galaxy) = this.pos.distance(other.pos)\n",
    "}"
   ],
   "metadata": {
    "collapsed": false,
    "ExecuteTime": {
     "end_time": "2023-12-11T18:30:05.562861200Z",
     "start_time": "2023-12-11T18:30:05.224904900Z"
    }
   }
  },
  {
   "cell_type": "code",
   "execution_count": 312,
   "outputs": [
    {
     "data": {
      "text/plain": "[Galaxy(id=1, pos=Pos(i=0, j=4)), Galaxy(id=2, pos=Pos(i=1, j=9)), Galaxy(id=3, pos=Pos(i=2, j=0)), Galaxy(id=4, pos=Pos(i=5, j=8)), Galaxy(id=5, pos=Pos(i=6, j=1)), Galaxy(id=6, pos=Pos(i=7, j=12)), Galaxy(id=7, pos=Pos(i=10, j=9)), Galaxy(id=8, pos=Pos(i=11, j=0)), Galaxy(id=9, pos=Pos(i=11, j=5))]"
     },
     "execution_count": 312,
     "metadata": {},
     "output_type": "execute_result"
    }
   ],
   "source": [
    "var galaxies = mutableListOf<Galaxy>()\n",
    "var id : Long = 1\n",
    "for (i in (0..<expanded.size)) {\n",
    "    for (j in expanded[i].indices) {\n",
    "        if (expanded[i][j] == '#') {\n",
    "            galaxies.add(Galaxy(id, Pos(i.toLong(), j.toLong())))\n",
    "            id++\n",
    "        }\n",
    "    }\n",
    "}\n",
    "galaxies"
   ],
   "metadata": {
    "collapsed": false,
    "ExecuteTime": {
     "end_time": "2023-12-11T18:30:05.906037600Z",
     "start_time": "2023-12-11T18:30:05.564352300Z"
    }
   }
  },
  {
   "cell_type": "code",
   "execution_count": 313,
   "outputs": [],
   "source": [
    "val pairs = galaxies.mapIndexed { i, g ->\n",
    "    galaxies.subList(i + 1, galaxies.size).map { h ->\n",
    "        Pair(g, h)\n",
    "    }\n",
    " }.flatten()\n",
    "//pairs.forEach { println(\"${it.first.id} -> ${it.second.id} = ${it.first.distance(it.second)} \") }\n",
    "//pairs.size"
   ],
   "metadata": {
    "collapsed": false,
    "ExecuteTime": {
     "end_time": "2023-12-11T18:30:06.180380300Z",
     "start_time": "2023-12-11T18:30:05.903558100Z"
    }
   }
  },
  {
   "cell_type": "code",
   "execution_count": 314,
   "outputs": [
    {
     "data": {
      "text/plain": "374"
     },
     "execution_count": 314,
     "metadata": {},
     "output_type": "execute_result"
    }
   ],
   "source": [
    "val res = pairs.map { it.first.distance(it.second) } //.also {println(it)}.sum()\n",
    "res.sum()"
   ],
   "metadata": {
    "collapsed": false,
    "ExecuteTime": {
     "end_time": "2023-12-11T18:30:06.442792700Z",
     "start_time": "2023-12-11T18:30:06.178359200Z"
    }
   }
  },
  {
   "cell_type": "code",
   "execution_count": 315,
   "outputs": [],
   "source": [],
   "metadata": {
    "collapsed": false,
    "ExecuteTime": {
     "end_time": "2023-12-11T18:30:06.447794Z",
     "start_time": "2023-12-11T18:30:06.393522800Z"
    }
   }
  }
 ],
 "metadata": {
  "kernelspec": {
   "display_name": "Kotlin",
   "language": "kotlin",
   "name": "kotlin"
  },
  "language_info": {
   "name": "kotlin",
   "version": "1.9.0",
   "mimetype": "text/x-kotlin",
   "file_extension": ".kt",
   "pygments_lexer": "kotlin",
   "codemirror_mode": "text/x-kotlin",
   "nbconvert_exporter": ""
  },
  "ktnbPluginMetadata": {
   "projectDependencies": true
  }
 },
 "nbformat": 4,
 "nbformat_minor": 0
}
