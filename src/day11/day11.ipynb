{
 "cells": [
  {
   "cell_type": "code",
   "execution_count": 288,
   "outputs": [],
   "source": [
    "fun List<String>.display() {\n",
    "    println(\"    =\".padEnd(this[0].length + 4, '='))\n",
    "    for (i in indices) {\n",
    "        println(\"$i\".padEnd(4) + this[i])\n",
    "    }\n",
    "    println(\"    =\".padEnd(this[0].length + 4, '='))\n",
    "}"
   ],
   "metadata": {
    "collapsed": false,
    "ExecuteTime": {
     "end_time": "2023-12-11T18:08:37.420911800Z",
     "start_time": "2023-12-11T18:08:37.184903900Z"
    }
   }
  },
  {
   "cell_type": "code",
   "execution_count": 289,
   "outputs": [
    {
     "data": {
      "text/plain": "[1, 25, 39, 50, 53, 56, 74]"
     },
     "execution_count": 289,
     "metadata": {},
     "output_type": "execute_result"
    }
   ],
   "source": [
    "import java.io.File\n",
    "\n",
    "val input = File(\"./src/day11/input.txt\").readLines()\n",
    "val emptyLineIndices = input.mapIndexed { i, line -> if (line.none { it == '#' }) i else 0}.filter { it != 0 }\n",
    "emptyLineIndices"
   ],
   "metadata": {
    "collapsed": false,
    "ExecuteTime": {
     "end_time": "2023-12-11T18:08:37.816902600Z",
     "start_time": "2023-12-11T18:08:37.417903300Z"
    }
   }
  },
  {
   "cell_type": "code",
   "execution_count": 290,
   "outputs": [
    {
     "data": {
      "text/plain": "[58, 72, 80, 81, 86]"
     },
     "execution_count": 290,
     "metadata": {},
     "output_type": "execute_result"
    }
   ],
   "source": [
    "val emptyColumns = mutableListOf<Int>()\n",
    "for (i in input[0].indices) {\n",
    "    if (input.map { it[i] }.none { it == '#' })\n",
    "        emptyColumns.add(i)\n",
    "}\n",
    "emptyColumns"
   ],
   "metadata": {
    "collapsed": false,
    "ExecuteTime": {
     "end_time": "2023-12-11T18:08:37.989905600Z",
     "start_time": "2023-12-11T18:08:37.622908300Z"
    }
   }
  },
  {
   "cell_type": "code",
   "execution_count": 291,
   "outputs": [],
   "source": [
    "val replacedLines = input.toMutableList()\n",
    "for (i in emptyLineIndices.reversed()) repeat(1) { replacedLines.add(i, \".\".padEnd(input[0].length, '.')) }\n",
    "//replacedLines.display()\n",
    "\n",
    "val expanded = replacedLines.map { line ->\n",
    "    var newLine = line.toMutableList()\n",
    "    for (i in emptyColumns.reversed())\n",
    "        repeat(1) { newLine.add(i, '.') }\n",
    "    newLine.joinToString(\"\")\n",
    "}\n",
    "//expanded.display()"
   ],
   "metadata": {
    "collapsed": false,
    "ExecuteTime": {
     "end_time": "2023-12-11T18:08:38.744904200Z",
     "start_time": "2023-12-11T18:08:37.874921100Z"
    }
   }
  },
  {
   "cell_type": "markdown",
   "source": [],
   "metadata": {
    "collapsed": false
   }
  },
  {
   "cell_type": "code",
   "execution_count": 292,
   "outputs": [],
   "source": [
    "data class Pos (val i: Long, val j: Long) {\n",
    "    fun distance(other: Pos) : Long {\n",
    "        val dy = abs(other.i - i)\n",
    "        val dx = abs(other.j - j)\n",
    "        return if (j == other.j && i != other.i) {\n",
    "            dy\n",
    "        } else if (i == other.i && j != other.j) {\n",
    "            dx\n",
    "        } else {\n",
    "            dx + dy\n",
    "        }\n",
    "    }\n",
    "//    fun distance(other: Pos) = (abs(other.i - i ) - 1) * 2\n",
    "}\n",
    "data class Galaxy(val id: Long, val pos: Pos) {\n",
    "    fun distance(other: Galaxy) = this.pos.distance(other.pos)\n",
    "}"
   ],
   "metadata": {
    "collapsed": false,
    "ExecuteTime": {
     "end_time": "2023-12-11T18:08:39.400498Z",
     "start_time": "2023-12-11T18:08:38.615919300Z"
    }
   }
  },
  {
   "cell_type": "code",
   "execution_count": 293,
   "outputs": [
    {
     "data": {
      "text/plain": "[Galaxy(id=1, pos=Pos(i=0, j=38)), Galaxy(id=2, pos=Pos(i=0, j=94)), Galaxy(id=3, pos=Pos(i=0, j=119)), Galaxy(id=4, pos=Pos(i=0, j=136)), Galaxy(id=5, pos=Pos(i=0, j=158)), Galaxy(id=6, pos=Pos(i=0, j=176)), Galaxy(id=7, pos=Pos(i=11, j=45)), Galaxy(id=8, pos=Pos(i=11, j=183)), Galaxy(id=9, pos=Pos(i=12, j=26)), Galaxy(id=10, pos=Pos(i=12, j=70)), Galaxy(id=11, pos=Pos(i=12, j=79)), Galaxy(id=12, pos=Pos(i=12, j=144)), Galaxy(id=13, pos=Pos(i=13, j=3)), Galaxy(id=14, pos=Pos(i=13, j=31)), Galaxy(id=15, pos=Pos(i=13, j=49)), Galaxy(id=16, pos=Pos(i=13, j=139)), Galaxy(id=17, pos=Pos(i=13, j=171)), Galaxy(id=18, pos=Pos(i=14, j=20)), Galaxy(id=19, pos=Pos(i=14, j=54)), Galaxy(id=20, pos=Pos(i=14, j=150)), Galaxy(id=21, pos=Pos(i=14, j=160)), Galaxy(id=22, pos=Pos(i=15, j=38)), Galaxy(id=23, pos=Pos(i=15, j=179)), Galaxy(id=24, pos=Pos(i=16, j=119)), Galaxy(id=25, pos=Pos(i=16, j=142)), Galaxy(id=26, pos=Pos(i=17, j=23)), Galaxy(id=27, pos=Pos(i=17, j=74)), Galaxy(id=28, pos=Pos(i=17, j=133)), Galaxy(id=29, pos=Pos(i=17, j=168)), Galaxy(id=30, pos=Pos(i=17, j=174)), Galaxy(id=31, pos=Pos(i=18, j=15)), Galaxy(id=32, pos=Pos(i=18, j=32)), Galaxy(id=33, pos=Pos(i=18, j=52)), Galaxy(id=34, pos=Pos(i=18, j=96)), Galaxy(id=35, pos=Pos(i=18, j=157)), Galaxy(id=36, pos=Pos(i=19, j=7)), Galaxy(id=37, pos=Pos(i=19, j=79)), Galaxy(id=38, pos=Pos(i=20, j=40)), Galaxy(id=39, pos=Pos(i=20, j=69)), Galaxy(id=40, pos=Pos(i=20, j=151)), Galaxy(id=41, pos=Pos(i=21, j=27)), Galaxy(id=42, pos=Pos(i=21, j=49)), Galaxy(id=43, pos=Pos(i=21, j=145)), Galaxy(id=44, pos=Pos(i=21, j=164)), Galaxy(id=45, pos=Pos(i=22, j=17)), Galaxy(id=46, pos=Pos(i=22, j=135)), Galaxy(id=47, pos=Pos(i=22, j=159)), Galaxy(id=48, pos=Pos(i=23, j=12)), Galaxy(id=49, pos=Pos(i=23, j=72)), Galaxy(id=50, pos=Pos(i=23, j=140)), Galaxy(id=51, pos=Pos(i=23, j=181)), Galaxy(id=52, pos=Pos(i=24, j=1)), Galaxy(id=53, pos=Pos(i=24, j=34)), Galaxy(id=54, pos=Pos(i=24, j=153)), Galaxy(id=55, pos=Pos(i=25, j=53)), Galaxy(id=56, pos=Pos(i=25, j=78)), Galaxy(id=57, pos=Pos(i=25, j=167)), Galaxy(id=58, pos=Pos(i=26, j=26)), Galaxy(id=59, pos=Pos(i=26, j=46)), Galaxy(id=60, pos=Pos(i=26, j=119)), Galaxy(id=61, pos=Pos(i=26, j=146)), Galaxy(id=62, pos=Pos(i=26, j=172)), Galaxy(id=63, pos=Pos(i=27, j=8)), Galaxy(id=64, pos=Pos(i=27, j=39)), Galaxy(id=65, pos=Pos(i=27, j=161)), Galaxy(id=66, pos=Pos(i=28, j=56)), Galaxy(id=67, pos=Pos(i=28, j=91)), Galaxy(id=68, pos=Pos(i=29, j=19)), Galaxy(id=69, pos=Pos(i=29, j=33)), Galaxy(id=70, pos=Pos(i=29, j=74)), Galaxy(id=71, pos=Pos(i=29, j=152)), Galaxy(id=72, pos=Pos(i=30, j=24)), Galaxy(id=73, pos=Pos(i=30, j=52)), Galaxy(id=74, pos=Pos(i=30, j=96)), Galaxy(id=75, pos=Pos(i=30, j=121)), Galaxy(id=76, pos=Pos(i=30, j=184)), Galaxy(id=77, pos=Pos(i=31, j=2)), Galaxy(id=78, pos=Pos(i=31, j=11)), Galaxy(id=79, pos=Pos(i=31, j=29)), Galaxy(id=80, pos=Pos(i=31, j=175)), Galaxy(id=81, pos=Pos(i=32, j=45)), Galaxy(id=82, pos=Pos(i=32, j=68)), Galaxy(id=83, pos=Pos(i=32, j=146)), Galaxy(id=84, pos=Pos(i=32, j=159)), Galaxy(id=85, pos=Pos(i=33, j=15)), Galaxy(id=86, pos=Pos(i=33, j=79)), Galaxy(id=87, pos=Pos(i=33, j=138)), Galaxy(id=88, pos=Pos(i=33, j=181)), Galaxy(id=89, pos=Pos(i=44, j=118)), Galaxy(id=90, pos=Pos(i=44, j=168)), Galaxy(id=91, pos=Pos(i=45, j=26)), Galaxy(id=92, pos=Pos(i=45, j=35)), Galaxy(id=93, pos=Pos(i=45, j=42)), Galaxy(id=94, pos=Pos(i=45, j=57)), Galaxy(id=95, pos=Pos(i=45, j=72)), Galaxy(id=96, pos=Pos(i=45, j=173)), Galaxy(id=97, pos=Pos(i=46, j=134)), Galaxy(id=98, pos=Pos(i=46, j=140)), Galaxy(id=99, pos=Pos(i=46, j=155)), Galaxy(id=100, pos=Pos(i=47, j=20)), Galaxy(id=101, pos=Pos(i=47, j=31)), Galaxy(id=102, pos=Pos(i=47, j=53)), Galaxy(id=103, pos=Pos(i=47, j=179)), Galaxy(id=104, pos=Pos(i=48, j=1)), Galaxy(id=105, pos=Pos(i=48, j=79)), Galaxy(id=106, pos=Pos(i=48, j=97)), Galaxy(id=107, pos=Pos(i=48, j=184)), Galaxy(id=108, pos=Pos(i=49, j=10)), Galaxy(id=109, pos=Pos(i=49, j=166)), Galaxy(id=110, pos=Pos(i=50, j=69)), Galaxy(id=111, pos=Pos(i=50, j=144)), Galaxy(id=112, pos=Pos(i=51, j=15)), Galaxy(id=113, pos=Pos(i=51, j=26)), Galaxy(id=114, pos=Pos(i=51, j=152)), Galaxy(id=115, pos=Pos(i=52, j=56)), Galaxy(id=116, pos=Pos(i=52, j=136)), Galaxy(id=117, pos=Pos(i=52, j=174)), Galaxy(id=118, pos=Pos(i=53, j=22)), Galaxy(id=119, pos=Pos(i=53, j=39)), Galaxy(id=120, pos=Pos(i=53, j=180)), Galaxy(id=121, pos=Pos(i=54, j=8)), Galaxy(id=122, pos=Pos(i=54, j=48)), Galaxy(id=123, pos=Pos(i=54, j=167)), Galaxy(id=124, pos=Pos(i=55, j=91)), Galaxy(id=125, pos=Pos(i=55, j=118)), Galaxy(id=126, pos=Pos(i=55, j=162)), Galaxy(id=127, pos=Pos(i=56, j=0)), Galaxy(id=128, pos=Pos(i=56, j=35)), Galaxy(id=129, pos=Pos(i=56, j=42)), Galaxy(id=130, pos=Pos(i=56, j=148)), Galaxy(id=131, pos=Pos(i=56, j=176)), Galaxy(id=132, pos=Pos(i=67, j=6)), Galaxy(id=133, pos=Pos(i=67, j=56)), Galaxy(id=134, pos=Pos(i=67, j=132)), Galaxy(id=135, pos=Pos(i=68, j=25)), Galaxy(id=136, pos=Pos(i=68, j=96)), Galaxy(id=137, pos=Pos(i=68, j=170)), Galaxy(id=138, pos=Pos(i=68, j=181)), Galaxy(id=139, pos=Pos(i=69, j=33)), Galaxy(id=140, pos=Pos(i=69, j=156)), Galaxy(id=141, pos=Pos(i=70, j=17)), Galaxy(id=142, pos=Pos(i=70, j=52)), Galaxy(id=143, pos=Pos(i=70, j=78)), Galaxy(id=144, pos=Pos(i=70, j=142)), Galaxy(id=145, pos=Pos(i=71, j=71)), Galaxy(id=146, pos=Pos(i=71, j=121)), Galaxy(id=147, pos=Pos(i=71, j=137)), Galaxy(id=148, pos=Pos(i=72, j=13)), Galaxy(id=149, pos=Pos(i=72, j=40)), Galaxy(id=150, pos=Pos(i=72, j=183)), Galaxy(id=151, pos=Pos(i=73, j=31)), Galaxy(id=152, pos=Pos(i=73, j=56)), Galaxy(id=153, pos=Pos(i=74, j=36)), Galaxy(id=154, pos=Pos(i=74, j=147)), Galaxy(id=155, pos=Pos(i=74, j=162)), Galaxy(id=156, pos=Pos(i=75, j=7)), Galaxy(id=157, pos=Pos(i=75, j=94)), Galaxy(id=158, pos=Pos(i=75, j=139)), Galaxy(id=159, pos=Pos(i=75, j=172)), Galaxy(id=160, pos=Pos(i=76, j=26)), Galaxy(id=161, pos=Pos(i=76, j=44)), Galaxy(id=162, pos=Pos(i=76, j=50)), Galaxy(id=163, pos=Pos(i=76, j=77)), Galaxy(id=164, pos=Pos(i=76, j=166)), Galaxy(id=165, pos=Pos(i=76, j=180)), Galaxy(id=166, pos=Pos(i=87, j=12)), Galaxy(id=167, pos=Pos(i=87, j=151)), Galaxy(id=168, pos=Pos(i=87, j=158)), Galaxy(id=169, pos=Pos(i=87, j=175)), Galaxy(id=170, pos=Pos(i=88, j=3)), Galaxy(id=171, pos=Pos(i=88, j=30)), Galaxy(id=172, pos=Pos(i=88, j=57)), Galaxy(id=173, pos=Pos(i=88, j=141)), Galaxy(id=174, pos=Pos(i=99, j=8)), Galaxy(id=175, pos=Pos(i=99, j=22)), Galaxy(id=176, pos=Pos(i=99, j=92)), Galaxy(id=177, pos=Pos(i=100, j=43)), Galaxy(id=178, pos=Pos(i=100, j=73)), Galaxy(id=179, pos=Pos(i=100, j=118)), Galaxy(id=180, pos=Pos(i=100, j=155)), Galaxy(id=181, pos=Pos(i=100, j=162)), Galaxy(id=182, pos=Pos(i=100, j=172)), Galaxy(id=183, pos=Pos(i=111, j=12)), Galaxy(id=184, pos=Pos(i=111, j=33)), Galaxy(id=185, pos=Pos(i=111, j=140)), Galaxy(id=186, pos=Pos(i=111, j=147)), Galaxy(id=187, pos=Pos(i=112, j=78)), Galaxy(id=188, pos=Pos(i=112, j=133)), Galaxy(id=189, pos=Pos(i=113, j=21)), Galaxy(id=190, pos=Pos(i=113, j=52)), Galaxy(id=191, pos=Pos(i=113, j=70)), Galaxy(id=192, pos=Pos(i=113, j=95)), Galaxy(id=193, pos=Pos(i=113, j=179)), Galaxy(id=194, pos=Pos(i=114, j=36)), Galaxy(id=195, pos=Pos(i=114, j=165)), Galaxy(id=196, pos=Pos(i=115, j=159)), Galaxy(id=197, pos=Pos(i=116, j=5)), Galaxy(id=198, pos=Pos(i=116, j=13)), Galaxy(id=199, pos=Pos(i=116, j=29)), Galaxy(id=200, pos=Pos(i=116, j=141)), Galaxy(id=201, pos=Pos(i=116, j=172)), Galaxy(id=202, pos=Pos(i=117, j=45)), Galaxy(id=203, pos=Pos(i=117, j=55)), Galaxy(id=204, pos=Pos(i=118, j=75)), Galaxy(id=205, pos=Pos(i=118, j=92)), Galaxy(id=206, pos=Pos(i=118, j=152)), Galaxy(id=207, pos=Pos(i=119, j=25)), Galaxy(id=208, pos=Pos(i=119, j=136)), Galaxy(id=209, pos=Pos(i=119, j=144)), Galaxy(id=210, pos=Pos(i=119, j=162)), Galaxy(id=211, pos=Pos(i=120, j=0)), Galaxy(id=212, pos=Pos(i=120, j=48)), Galaxy(id=213, pos=Pos(i=120, j=167)), Galaxy(id=214, pos=Pos(i=120, j=175)), Galaxy(id=215, pos=Pos(i=121, j=43)), Galaxy(id=216, pos=Pos(i=121, j=70)), Galaxy(id=217, pos=Pos(i=121, j=96)), Galaxy(id=218, pos=Pos(i=121, j=183)), Galaxy(id=219, pos=Pos(i=122, j=22)), Galaxy(id=220, pos=Pos(i=122, j=38)), Galaxy(id=221, pos=Pos(i=122, j=119)), Galaxy(id=222, pos=Pos(i=123, j=15)), Galaxy(id=223, pos=Pos(i=123, j=30)), Galaxy(id=224, pos=Pos(i=123, j=51)), Galaxy(id=225, pos=Pos(i=123, j=133)), Galaxy(id=226, pos=Pos(i=123, j=159)), Galaxy(id=227, pos=Pos(i=124, j=2)), Galaxy(id=228, pos=Pos(i=124, j=154)), Galaxy(id=229, pos=Pos(i=125, j=10)), Galaxy(id=230, pos=Pos(i=125, j=139)), Galaxy(id=231, pos=Pos(i=125, j=148)), Galaxy(id=232, pos=Pos(i=126, j=27)), Galaxy(id=233, pos=Pos(i=126, j=35)), Galaxy(id=234, pos=Pos(i=126, j=45)), Galaxy(id=235, pos=Pos(i=126, j=55)), Galaxy(id=236, pos=Pos(i=126, j=92)), Galaxy(id=237, pos=Pos(i=127, j=73)), Galaxy(id=238, pos=Pos(i=127, j=164)), Galaxy(id=239, pos=Pos(i=138, j=172)), Galaxy(id=240, pos=Pos(i=139, j=8)), Galaxy(id=241, pos=Pos(i=139, j=40)), Galaxy(id=242, pos=Pos(i=139, j=53)), Galaxy(id=243, pos=Pos(i=139, j=150)), Galaxy(id=244, pos=Pos(i=139, j=159)), Galaxy(id=245, pos=Pos(i=139, j=180)), Galaxy(id=246, pos=Pos(i=140, j=20)), Galaxy(id=247, pos=Pos(i=141, j=12)), Galaxy(id=248, pos=Pos(i=141, j=48)), Galaxy(id=249, pos=Pos(i=141, j=121)), Galaxy(id=250, pos=Pos(i=141, j=163)), Galaxy(id=251, pos=Pos(i=141, j=169)), Galaxy(id=252, pos=Pos(i=142, j=29)), Galaxy(id=253, pos=Pos(i=142, j=75)), Galaxy(id=254, pos=Pos(i=142, j=143)), Galaxy(id=255, pos=Pos(i=143, j=3)), Galaxy(id=256, pos=Pos(i=143, j=56)), Galaxy(id=257, pos=Pos(i=143, j=93)), Galaxy(id=258, pos=Pos(i=143, j=148)), Galaxy(id=259, pos=Pos(i=144, j=23)), Galaxy(id=260, pos=Pos(i=144, j=38)), Galaxy(id=261, pos=Pos(i=144, j=134)), Galaxy(id=262, pos=Pos(i=144, j=166)), Galaxy(id=263, pos=Pos(i=144, j=175)), Galaxy(id=264, pos=Pos(i=145, j=14)), Galaxy(id=265, pos=Pos(i=145, j=32)), Galaxy(id=266, pos=Pos(i=145, j=154)), Galaxy(id=267, pos=Pos(i=146, j=8)), Galaxy(id=268, pos=Pos(i=146, j=51)), Galaxy(id=269, pos=Pos(i=146, j=183)), Galaxy(id=270, pos=Pos(i=147, j=26)), Galaxy(id=271, pos=Pos(i=147, j=80)), Galaxy(id=272, pos=Pos(i=147, j=95)), Galaxy(id=273, pos=Pos(i=147, j=162)), Galaxy(id=274, pos=Pos(i=148, j=35)), Galaxy(id=275, pos=Pos(i=148, j=57)), Galaxy(id=276, pos=Pos(i=148, j=75)), Galaxy(id=277, pos=Pos(i=148, j=118)), Galaxy(id=278, pos=Pos(i=148, j=137)), Galaxy(id=279, pos=Pos(i=149, j=168)), Galaxy(id=280, pos=Pos(i=150, j=41)), Galaxy(id=281, pos=Pos(i=150, j=148)), Galaxy(id=282, pos=Pos(i=150, j=176)), Galaxy(id=283, pos=Pos(i=151, j=6)), Galaxy(id=284, pos=Pos(i=151, j=32)), Galaxy(id=285, pos=Pos(i=151, j=69)), Galaxy(id=286, pos=Pos(i=151, j=91)), Galaxy(id=287, pos=Pos(i=151, j=97)), Galaxy(id=288, pos=Pos(i=152, j=15)), Galaxy(id=289, pos=Pos(i=152, j=21)), Galaxy(id=290, pos=Pos(i=152, j=55)), Galaxy(id=291, pos=Pos(i=152, j=172)), Galaxy(id=292, pos=Pos(i=153, j=143)), Galaxy(id=293, pos=Pos(i=153, j=158)), Galaxy(id=294, pos=Pos(i=153, j=183)), Galaxy(id=295, pos=Pos(i=154, j=35)), Galaxy(id=296, pos=Pos(i=154, j=43)), Galaxy(id=297, pos=Pos(i=155, j=71)), Galaxy(id=298, pos=Pos(i=155, j=121)), Galaxy(id=299, pos=Pos(i=155, j=149)), Galaxy(id=300, pos=Pos(i=155, j=175)), Galaxy(id=301, pos=Pos(i=156, j=30)), Galaxy(id=302, pos=Pos(i=156, j=48)), Galaxy(id=303, pos=Pos(i=156, j=135)), Galaxy(id=304, pos=Pos(i=157, j=2)), Galaxy(id=305, pos=Pos(i=158, j=18)), Galaxy(id=306, pos=Pos(i=158, j=78)), Galaxy(id=307, pos=Pos(i=158, j=94)), Galaxy(id=308, pos=Pos(i=158, j=144)), Galaxy(id=309, pos=Pos(i=158, j=169)), Galaxy(id=310, pos=Pos(i=159, j=11)), Galaxy(id=311, pos=Pos(i=159, j=164)), Galaxy(id=312, pos=Pos(i=159, j=179)), Galaxy(id=313, pos=Pos(i=160, j=37)), Galaxy(id=314, pos=Pos(i=161, j=56)), Galaxy(id=315, pos=Pos(i=161, j=159)), Galaxy(id=316, pos=Pos(i=162, j=26)), Galaxy(id=317, pos=Pos(i=162, j=72)), Galaxy(id=318, pos=Pos(i=163, j=137)), Galaxy(id=319, pos=Pos(i=163, j=153)), Galaxy(id=320, pos=Pos(i=163, j=182)), Galaxy(id=321, pos=Pos(i=164, j=0)), Galaxy(id=322, pos=Pos(i=164, j=47)), Galaxy(id=323, pos=Pos(i=164, j=119)), Galaxy(id=324, pos=Pos(i=164, j=147)), Galaxy(id=325, pos=Pos(i=165, j=9)), Galaxy(id=326, pos=Pos(i=165, j=23)), Galaxy(id=327, pos=Pos(i=165, j=42)), Galaxy(id=328, pos=Pos(i=165, j=157)), Galaxy(id=329, pos=Pos(i=166, j=170)), Galaxy(id=330, pos=Pos(i=167, j=37)), Galaxy(id=331, pos=Pos(i=167, j=74)), Galaxy(id=332, pos=Pos(i=167, j=96)), Galaxy(id=333, pos=Pos(i=167, j=142)), Galaxy(id=334, pos=Pos(i=167, j=180)), Galaxy(id=335, pos=Pos(i=168, j=17)), Galaxy(id=336, pos=Pos(i=168, j=28)), Galaxy(id=337, pos=Pos(i=168, j=57)), Galaxy(id=338, pos=Pos(i=168, j=165)), Galaxy(id=339, pos=Pos(i=168, j=174)), Galaxy(id=340, pos=Pos(i=169, j=91)), Galaxy(id=341, pos=Pos(i=169, j=138)), Galaxy(id=342, pos=Pos(i=170, j=33)), Galaxy(id=343, pos=Pos(i=170, j=154)), Galaxy(id=344, pos=Pos(i=170, j=160)), Galaxy(id=345, pos=Pos(i=171, j=40)), Galaxy(id=346, pos=Pos(i=171, j=76)), Galaxy(id=347, pos=Pos(i=172, j=3)), Galaxy(id=348, pos=Pos(i=172, j=9)), Galaxy(id=349, pos=Pos(i=172, j=68)), Galaxy(id=350, pos=Pos(i=172, j=143)), Galaxy(id=351, pos=Pos(i=172, j=150)), Galaxy(id=352, pos=Pos(i=172, j=177)), Galaxy(id=353, pos=Pos(i=172, j=183)), Galaxy(id=354, pos=Pos(i=173, j=36)), Galaxy(id=355, pos=Pos(i=173, j=118)), Galaxy(id=356, pos=Pos(i=174, j=20)), Galaxy(id=357, pos=Pos(i=174, j=28)), Galaxy(id=358, pos=Pos(i=174, j=45)), Galaxy(id=359, pos=Pos(i=174, j=94)), Galaxy(id=360, pos=Pos(i=175, j=78)), Galaxy(id=361, pos=Pos(i=175, j=135)), Galaxy(id=362, pos=Pos(i=175, j=156)), Galaxy(id=363, pos=Pos(i=176, j=49)), Galaxy(id=364, pos=Pos(i=176, j=175)), Galaxy(id=365, pos=Pos(i=177, j=11)), Galaxy(id=366, pos=Pos(i=177, j=23)), Galaxy(id=367, pos=Pos(i=177, j=184)), Galaxy(id=368, pos=Pos(i=178, j=16)), Galaxy(id=369, pos=Pos(i=178, j=40)), Galaxy(id=370, pos=Pos(i=178, j=75)), Galaxy(id=371, pos=Pos(i=178, j=163)), Galaxy(id=372, pos=Pos(i=179, j=3)), Galaxy(id=373, pos=Pos(i=179, j=27)), Galaxy(id=374, pos=Pos(i=179, j=68)), Galaxy(id=375, pos=Pos(i=179, j=146)), Galaxy(id=376, pos=Pos(i=179, j=172)), Galaxy(id=377, pos=Pos(i=180, j=120)), Galaxy(id=378, pos=Pos(i=181, j=138)), Galaxy(id=379, pos=Pos(i=181, j=182)), Galaxy(id=380, pos=Pos(i=182, j=14)), Galaxy(id=381, pos=Pos(i=182, j=46)), Galaxy(id=382, pos=Pos(i=182, j=156)), Galaxy(id=383, pos=Pos(i=182, j=167)), Galaxy(id=384, pos=Pos(i=183, j=55)), Galaxy(id=385, pos=Pos(i=183, j=78)), Galaxy(id=386, pos=Pos(i=183, j=93)), Galaxy(id=387, pos=Pos(i=184, j=28)), Galaxy(id=388, pos=Pos(i=184, j=141)), Galaxy(id=389, pos=Pos(i=185, j=5)), Galaxy(id=390, pos=Pos(i=185, j=36)), Galaxy(id=391, pos=Pos(i=185, j=173)), Galaxy(id=392, pos=Pos(i=185, j=184)), Galaxy(id=393, pos=Pos(i=186, j=50)), Galaxy(id=394, pos=Pos(i=186, j=75)), Galaxy(id=395, pos=Pos(i=186, j=119)), Galaxy(id=396, pos=Pos(i=187, j=10)), Galaxy(id=397, pos=Pos(i=187, j=21)), Galaxy(id=398, pos=Pos(i=187, j=154)), Galaxy(id=399, pos=Pos(i=187, j=164)), Galaxy(id=400, pos=Pos(i=187, j=178)), Galaxy(id=401, pos=Pos(i=188, j=56)), Galaxy(id=402, pos=Pos(i=188, j=170)), Galaxy(id=403, pos=Pos(i=189, j=29)), Galaxy(id=404, pos=Pos(i=189, j=158)), Galaxy(id=405, pos=Pos(i=189, j=182)), Galaxy(id=406, pos=Pos(i=190, j=1)), Galaxy(id=407, pos=Pos(i=190, j=43)), Galaxy(id=408, pos=Pos(i=190, j=72)), Galaxy(id=409, pos=Pos(i=190, j=93)), Galaxy(id=410, pos=Pos(i=190, j=147)), Galaxy(id=411, pos=Pos(i=191, j=77)), Galaxy(id=412, pos=Pos(i=191, j=136)), Galaxy(id=413, pos=Pos(i=192, j=11)), Galaxy(id=414, pos=Pos(i=192, j=118)), Galaxy(id=415, pos=Pos(i=192, j=161)), Galaxy(id=416, pos=Pos(i=193, j=5)), Galaxy(id=417, pos=Pos(i=193, j=132)), Galaxy(id=418, pos=Pos(i=193, j=172)), Galaxy(id=419, pos=Pos(i=194, j=31)), Galaxy(id=420, pos=Pos(i=194, j=37)), Galaxy(id=421, pos=Pos(i=194, j=149)), Galaxy(id=422, pos=Pos(i=195, j=20)), Galaxy(id=423, pos=Pos(i=195, j=46)), Galaxy(id=424, pos=Pos(i=195, j=178)), Galaxy(id=425, pos=Pos(i=196, j=143)), Galaxy(id=426, pos=Pos(i=196, j=155)), Galaxy(id=427, pos=Pos(i=196, j=164)), Galaxy(id=428, pos=Pos(i=197, j=15)), Galaxy(id=429, pos=Pos(i=197, j=57)), Galaxy(id=430, pos=Pos(i=197, j=79)), Galaxy(id=431, pos=Pos(i=198, j=34)), Galaxy(id=432, pos=Pos(i=198, j=41)), Galaxy(id=433, pos=Pos(i=198, j=96)), Galaxy(id=434, pos=Pos(i=199, j=27)), Galaxy(id=435, pos=Pos(i=199, j=52)), Galaxy(id=436, pos=Pos(i=199, j=135)), Galaxy(id=437, pos=Pos(i=199, j=150)), Galaxy(id=438, pos=Pos(i=199, j=182)), Galaxy(id=439, pos=Pos(i=200, j=4)), Galaxy(id=440, pos=Pos(i=200, j=19)), Galaxy(id=441, pos=Pos(i=200, j=159)), Galaxy(id=442, pos=Pos(i=201, j=13)), Galaxy(id=443, pos=Pos(i=201, j=142)), Galaxy(id=444, pos=Pos(i=202, j=119)), Galaxy(id=445, pos=Pos(i=202, j=147)), Galaxy(id=446, pos=Pos(i=202, j=166)), Galaxy(id=447, pos=Pos(i=202, j=179))]"
     },
     "execution_count": 293,
     "metadata": {},
     "output_type": "execute_result"
    }
   ],
   "source": [
    "var galaxies = mutableListOf<Galaxy>()\n",
    "var id : Long = 1\n",
    "for (i in (0..<expanded.size)) {\n",
    "    for (j in expanded[i].indices) {\n",
    "        if (expanded[i][j] == '#') {\n",
    "            galaxies.add(Galaxy(id, Pos(i.toLong(), j.toLong())))\n",
    "            id++\n",
    "        }\n",
    "    }\n",
    "}\n",
    "galaxies"
   ],
   "metadata": {
    "collapsed": false,
    "ExecuteTime": {
     "end_time": "2023-12-11T18:08:39.699499200Z",
     "start_time": "2023-12-11T18:08:39.334503100Z"
    }
   }
  },
  {
   "cell_type": "code",
   "execution_count": 294,
   "outputs": [],
   "source": [
    "val pairs = galaxies.mapIndexed { i, g ->\n",
    "    galaxies.subList(i + 1, galaxies.size).map { h ->\n",
    "        Pair(g, h)\n",
    "    }\n",
    " }.flatten()\n",
    "//pairs.forEach { println(\"${it.first.id} -> ${it.second.id} = ${it.first.distance(it.second)} \") }\n",
    "//pairs.size"
   ],
   "metadata": {
    "collapsed": false,
    "ExecuteTime": {
     "end_time": "2023-12-11T18:08:40.005500Z",
     "start_time": "2023-12-11T18:08:39.696500400Z"
    }
   }
  },
  {
   "cell_type": "code",
   "execution_count": 295,
   "outputs": [
    {
     "data": {
      "text/plain": "99681"
     },
     "execution_count": 295,
     "metadata": {},
     "output_type": "execute_result"
    }
   ],
   "source": [
    "val res = pairs.map { it.first.distance(it.second) } //.also {println(it)}.sum()\n",
    "res.size"
   ],
   "metadata": {
    "collapsed": false,
    "ExecuteTime": {
     "end_time": "2023-12-11T18:08:40.163502100Z",
     "start_time": "2023-12-11T18:08:40.004503Z"
    }
   }
  },
  {
   "cell_type": "code",
   "execution_count": 296,
   "outputs": [],
   "source": [],
   "metadata": {
    "collapsed": false,
    "ExecuteTime": {
     "end_time": "2023-12-11T18:08:40.168500300Z",
     "start_time": "2023-12-11T18:08:40.157499200Z"
    }
   }
  }
 ],
 "metadata": {
  "kernelspec": {
   "display_name": "Kotlin",
   "language": "kotlin",
   "name": "kotlin"
  },
  "language_info": {
   "name": "kotlin",
   "version": "1.9.0",
   "mimetype": "text/x-kotlin",
   "file_extension": ".kt",
   "pygments_lexer": "kotlin",
   "codemirror_mode": "text/x-kotlin",
   "nbconvert_exporter": ""
  },
  "ktnbPluginMetadata": {
   "projectDependencies": true
  }
 },
 "nbformat": 4,
 "nbformat_minor": 0
}
